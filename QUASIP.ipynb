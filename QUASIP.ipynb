{
 "cells": [
  {
   "cell_type": "code",
   "execution_count": 1,
   "metadata": {},
   "outputs": [
    {
     "name": "stdout",
     "output_type": "stream",
     "text": [
      "Give now the desired parameters. Pressing enter will set the standard parameters\n"
     ]
    },
    {
     "ename": "ValueError",
     "evalue": "not enough values to unpack (expected 7, got 2)",
     "output_type": "error",
     "traceback": [
      "\u001b[1;31m---------------------------------------------------------------------------\u001b[0m",
      "\u001b[1;31mValueError\u001b[0m                                Traceback (most recent call last)",
      "\u001b[1;32m<ipython-input-1-ad4619563f74>\u001b[0m in \u001b[0;36m<module>\u001b[1;34m\u001b[0m\n\u001b[0;32m     40\u001b[0m \u001b[1;33m\u001b[0m\u001b[0m\n\u001b[0;32m     41\u001b[0m \u001b[1;31m# Function call to start the program\u001b[0m\u001b[1;33m\u001b[0m\u001b[1;33m\u001b[0m\u001b[1;33m\u001b[0m\u001b[0m\n\u001b[1;32m---> 42\u001b[1;33m \u001b[0mquasip\u001b[0m\u001b[1;33m(\u001b[0m\u001b[1;33m)\u001b[0m\u001b[1;33m\u001b[0m\u001b[1;33m\u001b[0m\u001b[0m\n\u001b[0m",
      "\u001b[1;32m<ipython-input-1-ad4619563f74>\u001b[0m in \u001b[0;36mquasip\u001b[1;34m()\u001b[0m\n\u001b[0;32m     27\u001b[0m \u001b[1;33m\u001b[0m\u001b[0m\n\u001b[0;32m     28\u001b[0m         \u001b[1;31m# Converting inputs to appropriate types\u001b[0m\u001b[1;33m\u001b[0m\u001b[1;33m\u001b[0m\u001b[1;33m\u001b[0m\u001b[0m\n\u001b[1;32m---> 29\u001b[1;33m         \u001b[0malpha\u001b[0m\u001b[1;33m,\u001b[0m \u001b[0mbeta\u001b[0m\u001b[1;33m,\u001b[0m \u001b[0mgamma\u001b[0m\u001b[1;33m,\u001b[0m \u001b[0mA\u001b[0m\u001b[1;33m,\u001b[0m \u001b[0mB\u001b[0m\u001b[1;33m,\u001b[0m \u001b[0mOmega\u001b[0m\u001b[1;33m,\u001b[0m \u001b[0mPicture\u001b[0m \u001b[1;33m=\u001b[0m \u001b[0mmap\u001b[0m\u001b[1;33m(\u001b[0m\u001b[0mfloat\u001b[0m\u001b[1;33m,\u001b[0m \u001b[1;33m[\u001b[0m\u001b[0malpha\u001b[0m\u001b[1;33m,\u001b[0m \u001b[0mbeta\u001b[0m\u001b[1;33m,\u001b[0m \u001b[0mgamma\u001b[0m\u001b[1;33m,\u001b[0m \u001b[0mA\u001b[0m\u001b[1;33m,\u001b[0m \u001b[0mB\u001b[0m\u001b[1;33m,\u001b[0m \u001b[0mOmega\u001b[0m\u001b[1;33m]\u001b[0m\u001b[1;33m)\u001b[0m\u001b[1;33m,\u001b[0m \u001b[0mint\u001b[0m\u001b[1;33m(\u001b[0m\u001b[0mPicture\u001b[0m\u001b[1;33m)\u001b[0m\u001b[1;33m\u001b[0m\u001b[1;33m\u001b[0m\u001b[0m\n\u001b[0m\u001b[0;32m     30\u001b[0m     \u001b[1;32melse\u001b[0m\u001b[1;33m:\u001b[0m\u001b[1;33m\u001b[0m\u001b[1;33m\u001b[0m\u001b[0m\n\u001b[0;32m     31\u001b[0m         \u001b[0mOmega\u001b[0m \u001b[1;33m=\u001b[0m \u001b[0minput\u001b[0m\u001b[1;33m(\u001b[0m\u001b[1;34m'Omega = '\u001b[0m\u001b[1;33m)\u001b[0m \u001b[1;32mor\u001b[0m \u001b[1;36m0.292\u001b[0m\u001b[1;33m\u001b[0m\u001b[1;33m\u001b[0m\u001b[0m\n",
      "\u001b[1;31mValueError\u001b[0m: not enough values to unpack (expected 7, got 2)"
     ]
    }
   ],
   "source": [
    "import numpy as np\n",
    "\n",
    "# Define the main function\n",
    "def quasip():\n",
    "    # Define global variables\n",
    "    global h, alpha, beta, gamma, A, B, Omega, Picture, Map, k, b\n",
    "\n",
    "    animsteps = 32\n",
    "\n",
    "    # User input for choosing between map and ODE\n",
    "    Map = input('Choose Map=1 for the map and Map=0 for the differential equation\\nMap = ')\n",
    "    if not Map.isdigit() or int(Map) not in [0, 1]:\n",
    "        raise ValueError('You have to set Map to 0 or 1')\n",
    "    Map = int(Map)\n",
    "\n",
    "    print('Give now the desired parameters. Pressing enter will set the standard parameters')\n",
    "\n",
    "    # Input parameters based on Map selection\n",
    "    if Map == 0:\n",
    "        alpha = input('alpha = ') or 1\n",
    "        beta = input('beta = ') or 1.576\n",
    "        gamma = input('gamma = ') or 1\n",
    "        A = input('A = ') or 1.4\n",
    "        B = input('B = ') or 1\n",
    "        Omega = input('Omega = ') or 1.76\n",
    "        Picture = input('Picture = ') or 1\n",
    "\n",
    "        # Converting inputs to appropriate types\n",
    "        alpha, beta, gamma, A, B, Omega, Picture = map(float, [alpha, beta, gamma, A, B, Omega]), int(Picture)\n",
    "    else:\n",
    "        Omega = input('Omega = ') or 0.292\n",
    "        k = input('k = ') or 1\n",
    "        b = input('b = ') or 0.25\n",
    "        Picture = input('Picture = ') or 1\n",
    "\n",
    "        # Converting inputs to appropriate types\n",
    "        Omega, k, b, Picture = float(Omega), float(k), float(b), int(Picture)\n",
    "\n",
    "    print('Press stop button to quit this run')\n",
    "\n",
    "# Function call to start the program\n",
    "quasip()\n"
   ]
  },
  {
   "cell_type": "code",
   "execution_count": null,
   "metadata": {},
   "outputs": [],
   "source": []
  }
 ],
 "metadata": {
  "kernelspec": {
   "display_name": "TBarrier",
   "language": "python",
   "name": "tbarrier"
  },
  "language_info": {
   "codemirror_mode": {
    "name": "ipython",
    "version": 3
   },
   "file_extension": ".py",
   "mimetype": "text/x-python",
   "name": "python",
   "nbconvert_exporter": "python",
   "pygments_lexer": "ipython3",
   "version": "3.7.12"
  }
 },
 "nbformat": 4,
 "nbformat_minor": 2
}
