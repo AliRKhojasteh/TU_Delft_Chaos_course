{
 "cells": [
  {
   "cell_type": "markdown",
   "metadata": {},
   "source": [
    "# Tutorial: `quasip` Function\n",
    "\n",
    "The `quasip` function simulates a dynamical system based on a set of parameters. It explores different behaviors of the system under various conditions.\n",
    "\n",
    "## Parameters\n",
    "\n",
    "- **Map** (int): Determines the type of system to simulate. Set to `0` for differential equation mode, `1` for map mode.\n",
    "- **alpha**, **beta**, **gamma** (float): Parameters influencing the system's behavior in differential equation mode.\n",
    "- **A**, **B** (float): Amplitude parameters used in the differential equation.\n",
    "- **Omega** (float): Frequency parameter for the system.\n",
    "- **Picture** (int): Determines the type of plot. `1` for a 1D map, `2` for theta_dot vs theta, and `3` for a 2D torus plot.\n",
    "- **k**, **b** (float): Parameters used in map mode. k = coupling constant   \n",
    "\n",
    "## Returns\n",
    "\n",
    "- **Pendulum** (list of tuples): Contains positions (b1, b2) for plotting the pendulum's orientation.\n",
    "- **Circle_map** (list of tuples): Contains positions for plotting the 1D map if `Picture == 1`.\n",
    "- **Theta_dot** (list of tuples): Contains positions for plotting theta_dot vs theta if `Picture == 2`.\n",
    "- **Torus** (list of tuples): Contains line segments for the 2D torus plot if `Picture == 3`.\n",
    "\n",
    "\n",
    "## Example\n",
    "Pendulum, Circle_map, Theta_dot, Torus = `quasip_test` (Map, alpha, beta, gamma, A, B, Omega, Picture, k, b)\n"
   ]
  },
  {
   "cell_type": "code",
   "execution_count": 1,
   "metadata": {},
   "outputs": [
    {
     "ename": "IndentationError",
     "evalue": "expected an indented block (QUASIP_functions.py, line 245)",
     "output_type": "error",
     "traceback": [
      "Traceback \u001b[1;36m(most recent call last)\u001b[0m:\n",
      "\u001b[0m  File \u001b[0;32mc:\\Users\\Ali\\conda_envs\\opendrift_env\\lib\\site-packages\\IPython\\core\\interactiveshell.py:3505\u001b[0m in \u001b[0;35mrun_code\u001b[0m\n    exec(code_obj, self.user_global_ns, self.user_ns)\u001b[0m\n",
      "\u001b[1;36m  Cell \u001b[1;32mIn[1], line 2\u001b[1;36m\n\u001b[1;33m    from QUASIP_functions import quasip_test, quasip_anim\u001b[1;36m\n",
      "\u001b[1;36m  File \u001b[1;32mc:\\Users\\Ali\\OneDrive - Delft University of Technology\\Postdoc_planning\\TU-Delft\\Chaos_course\\TU_Delft_Chaos_course\\QUASIP_functions.py:245\u001b[1;36m\u001b[0m\n\u001b[1;33m    elif Picture == 3:\u001b[0m\n\u001b[1;37m    ^\u001b[0m\n\u001b[1;31mIndentationError\u001b[0m\u001b[1;31m:\u001b[0m expected an indented block\n"
     ]
    }
   ],
   "source": [
    "# Define parameters\n",
    "from QUASIP_functions import quasip_test, quasip_anim\n",
    "import numpy as np\n",
    "\n",
    "# Define parameters\n",
    "Map = 0\n",
    "alpha = 1\n",
    "beta = 1.576\n",
    "gamma = 1\n",
    "A = 1.4\n",
    "B = 1\n",
    "Omega = 1.76 #0.292 #1.76\n",
    "Picture = 2 # 1 Circle, 2 Theta_dot, 3 Torus\n",
    "k = 0.25\n",
    "b = 0.25\n",
    "\n",
    "# Call the function with the parameters\n",
    "Pendulum, Circle_map, Theta_dot, Torus = quasip_test(Map, alpha, beta, gamma, A, B, Omega, Picture, k, b)\n",
    "\n",
    "quasip_anim(Pendulum, Circle_map, Theta_dot, Torus, Map, Picture)\n",
    "\n"
   ]
  },
  {
   "cell_type": "code",
   "execution_count": null,
   "metadata": {},
   "outputs": [],
   "source": []
  }
 ],
 "metadata": {
  "kernelspec": {
   "display_name": "Python (opendrift_env)",
   "language": "python",
   "name": "opendrift_env"
  },
  "language_info": {
   "codemirror_mode": {
    "name": "ipython",
    "version": 3
   },
   "file_extension": ".py",
   "mimetype": "text/x-python",
   "name": "python",
   "nbconvert_exporter": "python",
   "pygments_lexer": "ipython3",
   "version": "3.8.18"
  }
 },
 "nbformat": 4,
 "nbformat_minor": 2
}
